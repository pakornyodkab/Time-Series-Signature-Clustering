{
 "cells": [
  {
   "attachments": {},
   "cell_type": "markdown",
   "metadata": {},
   "source": [
    "# Signature Time Series Clustering"
   ]
  },
  {
   "cell_type": "code",
   "execution_count": 4,
   "metadata": {},
   "outputs": [],
   "source": [
    "# Native libraries\n",
    "import os\n",
    "import math\n",
    "\n",
    "# Essential Libraries\n",
    "import matplotlib.pyplot as plt\n",
    "import numpy as np\n",
    "\n",
    "# Preprocessing\n",
    "from tslearn.svm import TimeSeriesSVC\n",
    "from tslearn.preprocessing import TimeSeriesScalerMinMax, TimeSeriesResampler\n",
    "from sklearn.model_selection import train_test_split\n",
    "\n",
    "# Algorithms\n",
    "\n",
    "\n",
    "from sklearn.decomposition import PCA"
   ]
  },
  {
   "cell_type": "code",
   "execution_count": 5,
   "metadata": {},
   "outputs": [],
   "source": [
    "from tqdm import tqdm"
   ]
  },
  {
   "attachments": {},
   "cell_type": "markdown",
   "metadata": {},
   "source": [
    "## Load time series data from CSV file"
   ]
  },
  {
   "cell_type": "code",
   "execution_count": 6,
   "metadata": {},
   "outputs": [
    {
     "name": "stderr",
     "output_type": "stream",
     "text": [
      "  9%|▉         | 125/1320 [00:13<02:07,  9.39it/s]\n",
      "100%|██████████| 1320/1320 [00:09<00:00, 139.91it/s]\n"
     ]
    }
   ],
   "source": [
    "my_signatures = []\n",
    "signature_2_series = {}\n",
    "\n",
    "series_directory = \"/time_series_data/\"\n",
    "sign_ids = list(range(1, 56))\n",
    "count_per_sign = 24\n",
    "\n",
    "pbar = tqdm(total=len(sign_ids) * count_per_sign)\n",
    "for i in sign_ids:\n",
    "    for j in range(1, count_per_sign + 1):\n",
    "        with open(f\"time_series_data/{i}/{j}.csv\") as f:\n",
    "            line = f.readline()\n",
    "            if line is not None:\n",
    "                series = [int(y) for y in line.strip().split(',')]\n",
    "                label = i\n",
    "                name = f\"signature_{i}_{j}\"\n",
    "                my_signatures.append((name, label))\n",
    "                signature_2_series[name] = np.array(series)\n",
    "        pbar.update(1)\n",
    "pbar.close()"
   ]
  },
  {
   "cell_type": "code",
   "execution_count": 7,
   "metadata": {},
   "outputs": [],
   "source": [
    "from numpy.random import default_rng"
   ]
  },
  {
   "attachments": {},
   "cell_type": "markdown",
   "metadata": {},
   "source": [
    "## Preprocessing"
   ]
  },
  {
   "cell_type": "code",
   "execution_count": 8,
   "metadata": {},
   "outputs": [
    {
     "name": "stdout",
     "output_type": "stream",
     "text": [
      "{640}\n"
     ]
    }
   ],
   "source": [
    "# check if the series have same length\n",
    "series_lengths = {len(series) for series  in signature_2_series.values()}\n",
    "print(series_lengths)"
   ]
  },
  {
   "cell_type": "code",
   "execution_count": 9,
   "metadata": {},
   "outputs": [],
   "source": [
    "train_name, test_name = train_test_split(my_signatures, test_size=0.2, random_state=1234)"
   ]
  },
  {
   "cell_type": "code",
   "execution_count": 10,
   "metadata": {},
   "outputs": [],
   "source": [
    "X_train = []\n",
    "y_train = []\n",
    "X_test = []\n",
    "y_test = []\n",
    "\n",
    "for name, label in train_name:\n",
    "    X_train.append(signature_2_series[name])\n",
    "    y_train.append(int(label))\n",
    "\n",
    "for name, label in test_name:\n",
    "    X_test.append(signature_2_series[name])\n",
    "    y_test.append(int(label))\n",
    "\n",
    "X_train = np.array(X_train)\n",
    "y_train = np.array(y_train)\n",
    "X_test = np.array(X_test)\n",
    "y_test = np.array(y_test)"
   ]
  },
  {
   "cell_type": "code",
   "execution_count": 11,
   "metadata": {},
   "outputs": [
    {
     "name": "stdout",
     "output_type": "stream",
     "text": [
      "new train shape:  (1056, 320, 1)\n",
      "new testshape:  (264, 320, 1)\n"
     ]
    }
   ],
   "source": [
    "X_train = TimeSeriesResampler(sz=320).fit_transform(X_train)\n",
    "X_test = TimeSeriesResampler(sz=320).fit_transform(X_test)\n",
    "\n",
    "print(\"new train shape: \", X_train.shape)\n",
    "print(\"new testshape: \", X_test.shape)"
   ]
  },
  {
   "cell_type": "code",
   "execution_count": null,
   "metadata": {},
   "outputs": [],
   "source": [
    "X_train = TimeSeriesScalerMinMax().fit_transform(X_train)\n",
    "X_test = TimeSeriesScalerMinMax().fit_transform(X_test)"
   ]
  },
  {
   "attachments": {},
   "cell_type": "markdown",
   "metadata": {},
   "source": [
    "## Time series Classification"
   ]
  },
  {
   "cell_type": "code",
   "execution_count": null,
   "metadata": {},
   "outputs": [],
   "source": [
    "clf = TimeSeriesSVC(kernel=\"gak\", gamma=.1)\n",
    "clf.fit(X_train, y_train)"
   ]
  },
  {
   "attachments": {},
   "cell_type": "markdown",
   "metadata": {},
   "source": [
    "## Evaluation"
   ]
  },
  {
   "cell_type": "code",
   "execution_count": null,
   "metadata": {},
   "outputs": [],
   "source": [
    "print(\"Correct classification rate:\", clf.score(X_test, y_test))"
   ]
  },
  {
   "cell_type": "code",
   "execution_count": null,
   "metadata": {},
   "outputs": [],
   "source": [
    "n_classes = len(set(y_train))\n",
    "\n",
    "plt.figure()\n",
    "support_vectors = clf.support_vectors_\n",
    "for i, cl in enumerate(set(y_train)):\n",
    "    plt.subplot(n_classes, 1, i + 1)\n",
    "    plt.title(\"Support vectors for class %d\" % cl)\n",
    "    for ts in support_vectors[i]:\n",
    "        plt.plot(ts.ravel())\n",
    "\n",
    "plt.tight_layout()\n",
    "plt.show()"
   ]
  }
 ],
 "metadata": {
  "kernelspec": {
   "display_name": "chulacv2022",
   "language": "python",
   "name": "python3"
  },
  "language_info": {
   "codemirror_mode": {
    "name": "ipython",
    "version": 3
   },
   "file_extension": ".py",
   "mimetype": "text/x-python",
   "name": "python",
   "nbconvert_exporter": "python",
   "pygments_lexer": "ipython3",
   "version": "3.10.8"
  },
  "orig_nbformat": 4
 },
 "nbformat": 4,
 "nbformat_minor": 2
}
