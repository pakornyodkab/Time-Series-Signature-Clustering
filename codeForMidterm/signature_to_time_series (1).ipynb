{
 "cells": [
  {
   "attachments": {},
   "cell_type": "markdown",
   "metadata": {},
   "source": [
    "# Instruction\n",
    "1. Download the DCEDR dataset from `https://cedar.buffalo.edu/NIJ/data/`\n",
    "2. Put the downloaded data in the same directory as this file\n",
    "3. Run all below codes to generate time series data\n",
    "4. Results will be located in the `time_series_data` directory\n"
   ]
  },
  {
   "cell_type": "code",
   "execution_count": 8,
   "metadata": {},
   "outputs": [],
   "source": [
    "import cv2\n",
    "import csv, os\n",
    "import numpy as np\n",
    "from tqdm import tqdm\n",
    "import matplotlib.pyplot as plt"
   ]
  },
  {
   "cell_type": "code",
   "execution_count": 2,
   "metadata": {},
   "outputs": [],
   "source": [
    "signature_dir = './signatures/'\n",
    "current_dir = os.getcwd()\n",
    "\n",
    "signature_size = (640, 360)\n",
    "kernelSize = 3"
   ]
  },
  {
   "cell_type": "code",
   "execution_count": 3,
   "metadata": {},
   "outputs": [],
   "source": [
    "# Define necessary functions\n",
    "def generate_time_series(image):\n",
    "    # compute Otsu's thresholdi\n",
    "    _, t = cv2.threshold(image, 0, 255, cv2.THRESH_BINARY+cv2.THRESH_OTSU)\n",
    "\n",
    "    intensity = np.zeros(signature_size[0], dtype=np.int64)\n",
    "    \n",
    "    for i in range(signature_size[0]):\n",
    "        for j in range(signature_size[1]):\n",
    "            intensity[i] += 1 if t[j][i] == 0 else 0\n",
    "\n",
    "    intensity[intensity > np.percentile(intensity, 99)] = np.median(intensity)\n",
    "    return intensity\n",
    "\n",
    "def save_into_csv(intensity, filename):\n",
    "    with open(f'{filename}.csv', 'w', encoding='UTF8', newline='') as f:\n",
    "        # create the csv writer\n",
    "        writer = csv.writer(f)\n",
    "\n",
    "        # write the header\n",
    "        writer.writerow(intensity) \n",
    "\n",
    "def save_into_png(intensity, title, path):\n",
    "    plt.plot(range(signature_size[0]), intensity)\n",
    "    plt.ylim(0 ,np.max(intensity)+5);\n",
    "    plt.title(title)\n",
    "    plt.savefig(path)\n",
    "    plt.clf()"
   ]
  },
  {
   "cell_type": "markdown",
   "metadata": {},
   "source": [
    "## Original"
   ]
  },
  {
   "cell_type": "code",
   "execution_count": 6,
   "metadata": {},
   "outputs": [],
   "source": [
    "signature_type = 'full_org/original'\n",
    "signature_no = 55\n",
    "writer_no = 24"
   ]
  },
  {
   "cell_type": "code",
   "execution_count": 11,
   "metadata": {},
   "outputs": [
    {
     "name": "stderr",
     "output_type": "stream",
     "text": [
      "100%|██████████| 55/55 [00:20<00:00,  2.74it/s]\n"
     ]
    },
    {
     "data": {
      "text/plain": [
       "55"
      ]
     },
     "execution_count": 11,
     "metadata": {},
     "output_type": "execute_result"
    }
   ],
   "source": [
    "# Read the images\n",
    "signatures = []\n",
    "\n",
    "for i in tqdm(range(1, signature_no+1)):\n",
    "    tmp = []\n",
    "    for j in range(1, writer_no+1):\n",
    "        signature = cv2.imread(f'{signature_dir}{signature_type}_{i}_{j}.png', cv2.IMREAD_GRAYSCALE)\n",
    "        signature = cv2.resize(signature, signature_size)\n",
    "        blur_signature = cv2.blur(signature, (kernelSize, kernelSize))\n",
    "        tmp.append(signature)\n",
    "    signatures.append(tmp)\n",
    "    \n",
    "len(signatures)"
   ]
  },
  {
   "cell_type": "code",
   "execution_count": 13,
   "metadata": {},
   "outputs": [
    {
     "name": "stderr",
     "output_type": "stream",
     "text": [
      "100%|██████████| 55/55 [15:57<00:00, 17.41s/it]\n"
     ]
    }
   ],
   "source": [
    "# Convert images to time series data and Save them to CSV files\n",
    "for i in tqdm(range(signature_no)):\n",
    "    dir_path = os.path.join(current_dir, 'time_series_data', str(i+1))\n",
    "    if not os.path.exists(dir_path):\n",
    "        os.makedirs(dir_path)\n",
    "\n",
    "    for j in range(len(signatures[i])):\n",
    "        file_path = os.path.join(dir_path, str(j+1))\n",
    "\n",
    "        intensity = generate_time_series(signatures[i][j])\n",
    "        save_into_csv(intensity, file_path)"
   ]
  },
  {
   "cell_type": "code",
   "execution_count": 14,
   "metadata": {},
   "outputs": [
    {
     "name": "stderr",
     "output_type": "stream",
     "text": [
      "100%|██████████| 55/55 [00:00<00:00, 110.67it/s]\n"
     ]
    },
    {
     "data": {
      "text/plain": [
       "55"
      ]
     },
     "execution_count": 14,
     "metadata": {},
     "output_type": "execute_result"
    }
   ],
   "source": [
    "# Read time series data from CSV files\n",
    "intensities = []\n",
    "\n",
    "for i in tqdm(range(signature_no)):\n",
    "    tmp = []\n",
    "    dir_path = os.path.join(current_dir, 'time_series_data', str(i+1))\n",
    "    for j in range(1, writer_no+1):\n",
    "        file_path = os.path.join(dir_path, f'{j}.csv')\n",
    "        file = open(file_path, \"r\")\n",
    "        data = file.read()\n",
    "        file.close()\n",
    "        tmp.append(np.array([int(i) for i in data.strip().split(',')]))\n",
    "    intensities.append(tmp)\n",
    "\n",
    "len(intensities)"
   ]
  },
  {
   "cell_type": "code",
   "execution_count": 16,
   "metadata": {},
   "outputs": [
    {
     "name": "stderr",
     "output_type": "stream",
     "text": [
      "100%|██████████| 55/55 [04:01<00:00,  4.39s/it]\n"
     ]
    },
    {
     "data": {
      "text/plain": [
       "<Figure size 640x480 with 0 Axes>"
      ]
     },
     "metadata": {},
     "output_type": "display_data"
    }
   ],
   "source": [
    "# Plot the data and Save it to PNG\n",
    "for i in tqdm(range(signature_no)):\n",
    "    dir_path = os.path.join(current_dir, 'time_series_data', str(i+1))\n",
    "    for j in range(len(intensities[i])):\n",
    "        chart_title = f'signature_{i+1}_{j+1}'\n",
    "        chart_path = os.path.join(dir_path, f'{chart_title}.png')\n",
    "        save_into_png(intensities[i][j], chart_title, chart_path)"
   ]
  },
  {
   "attachments": {},
   "cell_type": "markdown",
   "metadata": {},
   "source": [
    "## Forgery"
   ]
  },
  {
   "cell_type": "code",
   "execution_count": 17,
   "metadata": {},
   "outputs": [],
   "source": [
    "signature_type = 'full_forg/forgeries'\n",
    "signature_no = 55\n",
    "writer_no = 24"
   ]
  },
  {
   "cell_type": "code",
   "execution_count": 18,
   "metadata": {},
   "outputs": [
    {
     "name": "stderr",
     "output_type": "stream",
     "text": [
      "100%|██████████| 55/55 [00:25<00:00,  2.12it/s]\n"
     ]
    },
    {
     "data": {
      "text/plain": [
       "55"
      ]
     },
     "execution_count": 18,
     "metadata": {},
     "output_type": "execute_result"
    }
   ],
   "source": [
    "# Read the images\n",
    "signatures = []\n",
    "\n",
    "for i in tqdm(range(1, signature_no+1)):\n",
    "    tmp = []\n",
    "    for j in range(1, writer_no+1):\n",
    "        signature = cv2.imread(f'{signature_dir}{signature_type}_{i}_{j}.png', cv2.IMREAD_GRAYSCALE)\n",
    "        signature = cv2.resize(signature, signature_size)\n",
    "        blur_signature = cv2.blur(signature, (kernelSize, kernelSize))\n",
    "        tmp.append(signature)\n",
    "    signatures.append(tmp)\n",
    "    \n",
    "len(signatures)"
   ]
  },
  {
   "cell_type": "code",
   "execution_count": 19,
   "metadata": {},
   "outputs": [
    {
     "name": "stderr",
     "output_type": "stream",
     "text": [
      "100%|██████████| 55/55 [16:46<00:00, 18.30s/it]\n"
     ]
    }
   ],
   "source": [
    "# Convert images to time series data and Save them to CSV files\n",
    "for i in tqdm(range(signature_no)):\n",
    "    dir_path = os.path.join(current_dir, 'time_series_data', f'{i+1}_forg')\n",
    "    if not os.path.exists(dir_path):\n",
    "        os.makedirs(dir_path)\n",
    "\n",
    "    for j in range(len(signatures[i])):\n",
    "        file_path = os.path.join(dir_path, str(j+1))\n",
    "\n",
    "        intensity = generate_time_series(signatures[i][j])\n",
    "        save_into_csv(intensity, file_path)"
   ]
  },
  {
   "cell_type": "code",
   "execution_count": 22,
   "metadata": {},
   "outputs": [
    {
     "name": "stderr",
     "output_type": "stream",
     "text": [
      "100%|██████████| 55/55 [00:00<00:00, 91.97it/s] \n"
     ]
    },
    {
     "data": {
      "text/plain": [
       "55"
      ]
     },
     "execution_count": 22,
     "metadata": {},
     "output_type": "execute_result"
    }
   ],
   "source": [
    "# Read time series data from CSV files\n",
    "intensities = []\n",
    "\n",
    "for i in tqdm(range(signature_no)):\n",
    "    tmp = []\n",
    "    dir_path = os.path.join(current_dir, 'time_series_data', f'{i+1}_forg')\n",
    "    for j in range(1, writer_no+1):\n",
    "        file_path = os.path.join(dir_path, f'{j}.csv')\n",
    "        file = open(file_path, \"r\")\n",
    "        data = file.read()\n",
    "        file.close()\n",
    "        tmp.append(np.array([int(i) for i in data.strip().split(',')]))\n",
    "    intensities.append(tmp)\n",
    "\n",
    "len(intensities)"
   ]
  },
  {
   "cell_type": "code",
   "execution_count": 23,
   "metadata": {},
   "outputs": [
    {
     "name": "stderr",
     "output_type": "stream",
     "text": [
      "100%|██████████| 55/55 [04:09<00:00,  4.53s/it]\n"
     ]
    },
    {
     "data": {
      "text/plain": [
       "<Figure size 640x480 with 0 Axes>"
      ]
     },
     "metadata": {},
     "output_type": "display_data"
    }
   ],
   "source": [
    "# Plot the data and Save it to PNG\n",
    "for i in tqdm(range(signature_no)):\n",
    "    dir_path = os.path.join(current_dir, 'time_series_data', f'{i+1}_forg')\n",
    "    for j in range(len(intensities[i])):\n",
    "        chart_title = f'forg_signature_{i+1}_{j+1}'\n",
    "        chart_path = os.path.join(dir_path, f'{chart_title}.png')\n",
    "        save_into_png(intensities[i][j], chart_title, chart_path)"
   ]
  }
 ],
 "metadata": {
  "kernelspec": {
   "display_name": "chulacv2022",
   "language": "python",
   "name": "python3"
  },
  "language_info": {
   "codemirror_mode": {
    "name": "ipython",
    "version": 3
   },
   "file_extension": ".py",
   "mimetype": "text/x-python",
   "name": "python",
   "nbconvert_exporter": "python",
   "pygments_lexer": "ipython3",
   "version": "3.9.13"
  },
  "orig_nbformat": 4
 },
 "nbformat": 4,
 "nbformat_minor": 2
}
